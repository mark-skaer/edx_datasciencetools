{
 "cells": [
  {
   "cell_type": "markdown",
   "id": "f9f293b9-bb8f-4978-8371-9760ec7be0cb",
   "metadata": {},
   "source": [
    "# DataScienceTools and Ecosystem"
   ]
  },
  {
   "cell_type": "markdown",
   "id": "04b568b7-3f0f-4463-9ea7-11b726436b4d",
   "metadata": {},
   "source": [
    "In this notebook, Data Science Tools and Ecosystem are summarized."
   ]
  },
  {
   "cell_type": "markdown",
   "id": "8701468c-e85c-4751-8c1d-ed6e2d0193f3",
   "metadata": {},
   "source": [
    "**Objectives:**\n",
    "- List popular languages for Data Science.\n",
    "- List commonly used libraries for Data Science.\n",
    "- List popular Data Science Tools.\n",
    "- Provide examples of evaluating arithmetic.\n",
    "  "
   ]
  },
  {
   "cell_type": "markdown",
   "id": "d3447728-ade3-44d6-990f-5ce566ec7eb7",
   "metadata": {},
   "source": [
    "## Author\n",
    "Mark Skaer"
   ]
  },
  {
   "cell_type": "markdown",
   "id": "8b7d00e4-d308-45e2-b812-b9343f17e2cd",
   "metadata": {},
   "source": [
    "Some of the popular languages that Data Scientists use are:\n",
    "1. R\n",
    "2. Python\n",
    "3. SQL"
   ]
  },
  {
   "cell_type": "markdown",
   "id": "9ba09945-2cf8-43b9-b9af-2558e3f17104",
   "metadata": {},
   "source": [
    "Some of the commonly used libraries used by Data Scientists include:\n",
    "1. Pandas\n",
    "2. Numpy\n",
    "3. MatplotLob\n",
    "4. Scikit-learn"
   ]
  },
  {
   "cell_type": "markdown",
   "id": "a5b32083-9f62-424c-8ffd-bed2468e212c",
   "metadata": {},
   "source": [
    "|Data Science Tools|\n",
    "|---|\n",
    "|MySQL|\n",
    "|Jupyter|\n",
    "|Hadoop|"
   ]
  },
  {
   "cell_type": "markdown",
   "id": "cdb179a0-fb00-4e92-b66c-900e4c9d5f8d",
   "metadata": {},
   "source": [
    "### Below are a few examples of evaluating arithmetic expressions in Python."
   ]
  },
  {
   "cell_type": "code",
   "execution_count": 1,
   "id": "b95f583a-e974-41dd-baab-1fb81d432093",
   "metadata": {},
   "outputs": [
    {
     "data": {
      "text/plain": [
       "17"
      ]
     },
     "execution_count": 1,
     "metadata": {},
     "output_type": "execute_result"
    }
   ],
   "source": [
    "#This is a simple arithmetic expression to multiply then add integers.\n",
    "(3*4)+5"
   ]
  },
  {
   "cell_type": "code",
   "execution_count": 2,
   "id": "bf50de4c-2a27-445a-b39f-b3aedb6e0cd8",
   "metadata": {},
   "outputs": [
    {
     "data": {
      "text/plain": [
       "3.3333333333333335"
      ]
     },
     "execution_count": 2,
     "metadata": {},
     "output_type": "execute_result"
    }
   ],
   "source": [
    "#This will convert 200 minutes to hours by dividing by 60.\n",
    "minutes = 200\n",
    "hours = minutes/60\n",
    "hours"
   ]
  }
 ],
 "metadata": {
  "kernelspec": {
   "display_name": "Python 3 (ipykernel)",
   "language": "python",
   "name": "python3"
  },
  "language_info": {
   "codemirror_mode": {
    "name": "ipython",
    "version": 3
   },
   "file_extension": ".py",
   "mimetype": "text/x-python",
   "name": "python",
   "nbconvert_exporter": "python",
   "pygments_lexer": "ipython3",
   "version": "3.11.9"
  }
 },
 "nbformat": 4,
 "nbformat_minor": 5
}
